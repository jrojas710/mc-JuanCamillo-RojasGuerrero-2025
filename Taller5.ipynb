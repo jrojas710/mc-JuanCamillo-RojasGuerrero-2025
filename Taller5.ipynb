{
  "nbformat": 4,
  "nbformat_minor": 0,
  "metadata": {
    "colab": {
      "provenance": [],
      "authorship_tag": "ABX9TyPLBdDqnp+pSSNvTFqcxFRE"
    },
    "kernelspec": {
      "name": "python3",
      "display_name": "Python 3"
    },
    "language_info": {
      "name": "python"
    }
  },
  "cells": [
    {
      "cell_type": "markdown",
      "source": [
        "# Taller 5"
      ],
      "metadata": {
        "id": "DRY6Wi2aL2VA"
      }
    },
    {
      "cell_type": "markdown",
      "source": [
        "### 1. Ayer dejé mi teléfono celular olvidado en el autobús, por lo que lo reemplacé rápidamente por un teléfono con menor capacidad de memoria. En mi teléfono anterior tenía instaladas 20 aplicaciones y ahora solamente puedo seleccionar 8.\n",
        "a) ¿De cuántas formas puedo realizar esta selección?\n",
        "\n",
        "b) Si deseo mantener instaladas 3 de las 6 aplicaciones de redes sociales que tenía y otras 5 aplicaciones de las 14 restantes, ¿de cuántas formas puedo\n",
        "seleccionar ahora?"
      ],
      "metadata": {
        "id": "3Ac9Sd3eL_6P"
      }
    },
    {
      "cell_type": "code",
      "source": [
        "# Juan: Se imoprta math para usar la funcion de combinacion\n",
        "\n",
        "import math\n",
        "\n",
        "# Juan: Se define la funcion de combinacion\n",
        "\n",
        "def combinacion(n, k):\n",
        "\n",
        "    return math.comb(n, k)\n",
        "\n",
        "# - Parte A -\n",
        "\n",
        "total_app = 20  # Juan: Numero total de aplicaciones iniciales\n",
        "\n",
        "seleccionar_app = 8  # Juan: Numero de aplicaciones a seleccionar\n",
        "\n",
        "formas_a = combinacion(total_app, seleccionar_app)  # Juan: Se calcula C(20,8)\n",
        "\n",
        "# - Parte B -\n",
        "\n",
        "total_social = 6  # Juan: Apps de redes sociales que se tenia\n",
        "\n",
        "mantener_social = 3  # Juan: De las apps totales, las que se quieren mantener\n",
        "\n",
        "formas_social = combinacion(total_social, mantener_social)\n",
        "\n",
        "# Juan: De las 14 aplicaciones restantes se eligen 5\n",
        "\n",
        "total_otras = 14  # Juan: Las apps restantes\n",
        "\n",
        "elegir_otras = 5  # Juan: De las apps restanes cuantas se eligen\n",
        "\n",
        "formas_otras = combinacion(total_otras, elegir_otras)\n",
        "\n",
        "formas_b = formas_social * formas_otras  # Juan: Se multiplican las combinaciones\n",
        "\n",
        "# Juan: Se muestran los resultados\n",
        "\n",
        "print(f\"Parte (a) - Formas de seleccionar 8 de 20: {formas_a}\")\n",
        "\n",
        "print(f\"Parte (b) - Formas de seleccionar 3 de 6 y 5 de 14: {formas_b}\")\n",
        "\n",
        "print(f\"  - C(6,3) = {formas_social}\")  # Juan: Combinaciones sociales\n",
        "\n",
        "print(f\"  - C(14,5) = {formas_otras}\")  # Juan: Combinaciones otras\n"
      ],
      "metadata": {
        "colab": {
          "base_uri": "https://localhost:8080/"
        },
        "id": "derwkUTLL1BP",
        "outputId": "d296f264-1d77-46d5-9d9a-24b11c9c2f87"
      },
      "execution_count": 4,
      "outputs": [
        {
          "output_type": "stream",
          "name": "stdout",
          "text": [
            "Parte (a) - Formas de seleccionar 8 de 20: 125970\n",
            "Parte (b) - Formas de seleccionar 3 de 6 y 5 de 14: 40040\n",
            "  - C(6,3) = 20\n",
            "  - C(14,5) = 2002\n"
          ]
        }
      ]
    },
    {
      "cell_type": "markdown",
      "source": [
        "# 2. Una baraja común de 52 cartas consiste en cuatro palos (tréboles, diamantes, corazones y espadas) con 13 denominaciones cada uno (as, de 2 a 10, jack [J], reina [Q] y rey [K]).\n",
        "a) ¿Cuántas manos de póquer (sin ordenar) de cinco cartas, seleccionadas de una\n",
        "baraja común de 52 cartas, existen?\n",
        "\n",
        "b) ¿Cuántas manos de póquer contienen cartas todas del mismo palo?\n",
        "\n",
        "c) ¿Cuántas manos de póquer contienen tres cartas de una denominación y dos\n",
        "de una segunda denominación?"
      ],
      "metadata": {
        "id": "W1Oe5-l2NLpG"
      }
    },
    {
      "cell_type": "code",
      "source": [
        "# Juan: Se importa math para usar math.comb\n",
        "\n",
        "import math\n",
        "\n",
        "# - Parte A -\n",
        "\n",
        "# Juan: Nmero de manos de 5 cartas de una baraja de 52\n",
        "\n",
        "totales = math.comb(52, 5)\n",
        "\n",
        "# - Parte B -\n",
        "\n",
        "mismo_palo = 4 * math.comb(13, 5)\n",
        "\n",
        "# - Parte C -\n",
        "\n",
        "full_house = math.comb(13, 1) * math.comb(4, 3) * math.comb(12, 1) * math.comb(4, 2)\n",
        "\n",
        "print(\"a) Numero total de manos de 5 cartas:\", totales)  # Juan: C(52,5)\n",
        "\n",
        "print(\"b) Manos con todas las cartas del mismo palo:\", mismo_palo)  # Juan: 4 * C(13,5)\n",
        "\n",
        "print(\"c) Manos con tres de una denominacion y dos de otra:\", full_house)  # Juan: Se calcula full house"
      ],
      "metadata": {
        "colab": {
          "base_uri": "https://localhost:8080/"
        },
        "id": "7SDs3XgpN9fd",
        "outputId": "4efa00ba-efdd-4a8c-933a-ed4ac9a9f5f2"
      },
      "execution_count": 3,
      "outputs": [
        {
          "output_type": "stream",
          "name": "stdout",
          "text": [
            "a) Numero total de manos de 5 cartas: 2598960\n",
            "b) Manos con todas las cartas del mismo palo: 5148\n",
            "c) Manos con tres de una denominacion y dos de otra: 3744\n"
          ]
        }
      ]
    }
  ]
}