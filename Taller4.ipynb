{
  "nbformat": 4,
  "nbformat_minor": 0,
  "metadata": {
    "colab": {
      "provenance": [],
      "authorship_tag": "ABX9TyOLmPnC/J02uvPuJk2TNYCe"
    },
    "kernelspec": {
      "name": "python3",
      "display_name": "Python 3"
    },
    "language_info": {
      "name": "python"
    }
  },
  "cells": [
    {
      "cell_type": "markdown",
      "source": [
        "# Taller 4"
      ],
      "metadata": {
        "id": "-04CEuUMHKMm"
      }
    },
    {
      "cell_type": "markdown",
      "source": [
        "## 1.  La fábrica de automóviles Summer fabrica su modelo Sunshine en 3 colores, 5 líneas, 3 tipos de transmisión y 2 cilindrajes diferentes.\n",
        "a. ¿Cuántos tipos diferentes de vehículos se pueden fabricar?\n",
        "\n",
        "b. Si ahora se ofrecen en 10 colores diferentes, ¿cuántos tipos se tendrán\n",
        "ahora?\n",
        "\n",
        "### Respuesta:\n",
        "\n",
        "# a. 3x5x3x2 = 90 Tipos de Vehiculos. (3 colores, 5 lineas, 3 tipos de transmision y 2 cilindrajes diferentes)\n",
        "\n",
        "# b. 10x5x3x2 = 300 Tipos de Vehiculos. (10 colores, 5 lineas, 3 tipos de transmision y 2 cilindrajes diferentes)\n",
        "\n"
      ],
      "metadata": {
        "id": "bhitijutHO7l"
      }
    },
    {
      "cell_type": "markdown",
      "source": [
        "## 2.  Las placas de automóviles en Colombia contienen 3 letras seguidas de tres números. Entre las letras no se incluye la Ñ.\n",
        "a. ¿Cuántas placas de automóvil diferentes existen?\n",
        "\n",
        "b. ¿Cuántas se podrían hacer si no se aceptan repeticiones de letras o\n",
        "números?\n",
        "\n",
        "### Respuesta:\n",
        "\n",
        "# a. Si cada letra tiene 25 posibilidades y cada numero 10, entonces: 25x25x25x10x10x10 = 15625 x 1000 = 15625000 placas posibles\n",
        "\n",
        "# b. Letras: 25 opciones para la primera, 24 para la segunda, 23 para la tercera\n",
        "# Números: 10 opciones para la primera, 9 para la segunda, 8 para la tercera\n",
        "# 25×24×23×10×9×8 = 9936000 placas posibles sin repeticiones\n"
      ],
      "metadata": {
        "id": "OA4J9to3IdoM"
      }
    },
    {
      "cell_type": "markdown",
      "source": [
        "## 3. ¿De cuántas maneras se puede seleccionar el presidente, vicepresidente, secretario y tesorero de un grupo de 10 personas?\n",
        "\n",
        "### Respuesta:\n",
        "\n",
        "# El orden importa: P(10, 4): 10x9x8x7 = 5040 maneras\n"
      ],
      "metadata": {
        "id": "IzNVw2peJTps"
      }
    },
    {
      "cell_type": "markdown",
      "source": [
        "## 4. ¿Cuántas cadenas de 16 bits comienzan y terminan con números 00? Ejemplos: 0010110000101100, 0001010000010100, 0011000000110000\n",
        "\n",
        "### Respuesta:\n",
        "\n",
        "# Son 16 Bits. Los 2 primeros y los 2 ultimos son 00, asi que tenemos 12 bits posibles entre 0 y 1. Por lo tanto es 2^12 = 4096 cadenas posibles"
      ],
      "metadata": {
        "id": "81tJP6Y-Jwr7"
      }
    },
    {
      "cell_type": "markdown",
      "source": [
        "## 5. Un coleccionista de libros antiguos desea ubicar sus 9 libros más preciados en una vitrina antirrobos, uno al lado del otro. 4 de los libros están escritos en griego y los 5 restantes en latín. Cada uno de los libros es diferente de los demás.\n",
        "a. ¿De cuántas formas se pueden ubicar los libros en la vitrina?\n",
        "\n",
        "b. ¿De cuantas formas se pueden ubicar si todos los libros en latín\n",
        "deben estar uno al lado del otro?\n",
        "\n",
        "c. Si desea alternar los libros (latín, griego, latín, griego, etc.), ¿de\n",
        "cuántas formas se pueden ubicar ahora?\n",
        "\n",
        "### Respuesta:\n",
        "\n",
        "# a. Si los 5 libros en latikn deben estar juntos, se agrupan como un solo bloque, entonces hay 5 bloques en total (1 bloque de latín y 4 libros griegos), que se pueden ordenar de 5! formas, y los 5 libros latinos dentro del bloque tambien se pueden ordenar entre si de 5! formas\n",
        "# 5! × 5! = 14,400 formas\n",
        "\n",
        "# b. Empezando y terminando con latin: L, G, L, G, L, G, L, G, L. Hay 5 libros latinos y 4 griegos todos diferentes\n",
        "# 5! × 4! = 2,880 formas"
      ],
      "metadata": {
        "id": "Ii1f8DYrKO8k"
      }
    },
    {
      "cell_type": "markdown",
      "source": [],
      "metadata": {
        "id": "XHu4LHAELOq6"
      }
    }
  ]
}