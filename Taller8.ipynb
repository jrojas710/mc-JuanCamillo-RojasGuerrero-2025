{
  "nbformat": 4,
  "nbformat_minor": 0,
  "metadata": {
    "colab": {
      "provenance": [],
      "authorship_tag": "ABX9TyO73JNIClsTaP7GzmWnX/RX"
    },
    "kernelspec": {
      "name": "python3",
      "display_name": "Python 3"
    },
    "language_info": {
      "name": "python"
    }
  },
  "cells": [
    {
      "cell_type": "markdown",
      "source": [
        "### 1. Crea un programa que, por medio de divisiones sucesivas, convierta números enteros de base 10 a base 12."
      ],
      "metadata": {
        "id": "nIh2yQAIqafZ"
      }
    },
    {
      "cell_type": "code",
      "execution_count": 10,
      "metadata": {
        "colab": {
          "base_uri": "https://localhost:8080/"
        },
        "id": "QT2z52vwqWFa",
        "outputId": "025b659e-a4d8-457d-ceeb-ff34f4c2cbf0"
      },
      "outputs": [
        {
          "output_type": "stream",
          "name": "stdout",
          "text": [
            "Introduzca un numero entero de base 10 para ser convertido en base 12 por medio de divisiones sucesivas: 145\n",
            "El numero 145 en base 12 es: 101\n"
          ]
        }
      ],
      "source": [
        "# Juan: Se inicia la funcion para convertir de base 10 a base 12\n",
        "\n",
        "def conv_b12(n_10):\n",
        "\n",
        "    # Juan: Se crea una lista vacia para almacenar los digitos en base 12\n",
        "\n",
        "    dig_b12 = []\n",
        "\n",
        "    # Juan: Se verifica si el numero es 0, ya que en este caso no es necesario hacer divisiones\n",
        "\n",
        "    if n_10 == 0:\n",
        "        return \"0\"\n",
        "\n",
        "    # Juan: Se realiza divisiones sucesivas entre el numero y 12\n",
        "\n",
        "    while n_10 > 0:\n",
        "\n",
        "        # Juan: Se calcula el residuo de la division\n",
        "\n",
        "        r = n_10 % 12\n",
        "\n",
        "        # Juan: Si el residuo es mayor a 9, se convierte en un caracter alfabetico\n",
        "\n",
        "        if r >= 10:\n",
        "\n",
        "            if r == 10:\n",
        "\n",
        "                dig_b12.append('A')\n",
        "\n",
        "            elif r == 11:\n",
        "\n",
        "                dig_b12.append('B')\n",
        "\n",
        "        else:\n",
        "            # Juan: Si el residuo es menor a 10, se añade como un número\n",
        "\n",
        "            dig_b12.append(str(r))\n",
        "\n",
        "        # Juan: Se actualiza el numero dividiendolo entre 12\n",
        "\n",
        "        n_10 = n_10 // 12\n",
        "\n",
        "    # Juan: Se inivierte la lista para que el primer digito quede al inicio\n",
        "\n",
        "    dig_b12.reverse()\n",
        "\n",
        "    # Juan: Se devuelve el numero convertido pero en forma de cadena\n",
        "\n",
        "    return ''.join(dig_b12)\n",
        "\n",
        "n =int(input(\"Introduzca un numero entero de base 10 para ser convertido en base 12 por medio de divisiones sucesivas: \"))\n",
        "\n",
        "res = conv_b12(n)\n",
        "\n",
        "print(f\"El numero {n} en base 12 es: {res}\")\n"
      ]
    },
    {
      "cell_type": "markdown",
      "source": [
        "### 2. Crea un programa que, por medio de potencias sucesivas, convierta números enteros de base 6 a base 10. El programa debe detectar cuando un número recibido no sea válido en base 6."
      ],
      "metadata": {
        "id": "Ppamcoyjqn6J"
      }
    },
    {
      "cell_type": "code",
      "source": [
        "# Juan: Se inicia la funcion para convertir de base 6 a base 10\n",
        "\n",
        "def conv_b6_a_b10(n_b6):\n",
        "\n",
        "    # Juan: Se verifica si el numero recibido es valido en base 6\n",
        "\n",
        "    for dig in n_b6:\n",
        "\n",
        "        if dig not in '012345':\n",
        "\n",
        "            return \"El numero no es valido en base 6\"\n",
        "\n",
        "    # Juan: Se inicializa la variable para almacenar el resultado en base 10\n",
        "\n",
        "    n_b10 = 0\n",
        "\n",
        "    # Juan: Se recorre el numero de base 6 de derecha a izquierda\n",
        "\n",
        "    for i, dig in enumerate(reversed(n_b6)):\n",
        "\n",
        "        # Juan: Se convierte cada digito de caracter a entero y se multiplica por la potencia de 6 correspondiente\n",
        "\n",
        "        n_b10 += int(dig) * (6 ** i)\n",
        "\n",
        "    # Juan: Se devuelve el resultado final en base 10\n",
        "\n",
        "    return n_b10\n",
        "\n",
        "n = int(input(\"Introduzca un numero para ser convertido en base 10: \"))\n",
        "\n",
        "res = conv_b6_a_b10(str(n))\n",
        "\n",
        "print(f\"El numero {n} en base 10 es: {res}\")\n"
      ],
      "metadata": {
        "colab": {
          "base_uri": "https://localhost:8080/"
        },
        "id": "Kzt4vxf4sOtn",
        "outputId": "ce384e99-419c-4945-a34c-53b609cae37d"
      },
      "execution_count": 6,
      "outputs": [
        {
          "output_type": "stream",
          "name": "stdout",
          "text": [
            "Introduzca un numero para ser convertido en base 10: 2345\n",
            "El numero 2345 en base 10 es: 569\n"
          ]
        }
      ]
    }
  ]
}