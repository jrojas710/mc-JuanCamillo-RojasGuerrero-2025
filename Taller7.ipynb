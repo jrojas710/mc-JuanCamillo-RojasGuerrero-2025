{
  "nbformat": 4,
  "nbformat_minor": 0,
  "metadata": {
    "colab": {
      "provenance": [],
      "authorship_tag": "ABX9TyO/6byGVTc8POddgmfJRQj7"
    },
    "kernelspec": {
      "name": "python3",
      "display_name": "Python 3"
    },
    "language_info": {
      "name": "python"
    }
  },
  "cells": [
    {
      "cell_type": "code",
      "execution_count": 1,
      "metadata": {
        "id": "R_5XUoXUHFDU",
        "colab": {
          "base_uri": "https://localhost:8080/"
        },
        "outputId": "3a392105-005f-44d2-efe8-a087516b2647"
      },
      "outputs": [
        {
          "output_type": "stream",
          "name": "stdout",
          "text": [
            "Ingrese el primer número entre -32768 y 32767: -47\n",
            "Ingrese el segundo número entre -32768 y 32767: 47\n",
            "\n",
            "----- Representaciones en complemento a dos de 16 bits -----\n",
            "Primer numero :  1111111111010001\n",
            "Segundo numero:  0000000000101111\n",
            "Resultado (binario):  0000000000000000\n",
            "Resultado (decimal):  0\n"
          ]
        }
      ],
      "source": [
        "                                                   # Juan: Es una libreria para manejar enteros con tamaños especificos\n",
        "\n",
        "import struct\n",
        "\n",
        "# Juan: Se defina la funcióo para convertir un entero en su representación binaria de 16 bits con complemento a dos\n",
        "\n",
        "def convertir_a_complemento_dos_16bits(entero_raro):\n",
        "\n",
        "    # Juan: Si el numero es negativo, se suma 2^16 para obtener su representacion binaria correcta\n",
        "\n",
        "    if entero_raro < 0:\n",
        "\n",
        "        entero_raro = (1 << 16) + entero_raro\n",
        "\n",
        "    # Juan: Retornamos el numero en formato binario con 16 bits rellenados con ceros\n",
        "\n",
        "    return format(entero_raro, '016b')\n",
        "\n",
        "# Juan: Solicitamos al usuario el primer numero\n",
        "\n",
        "num_inusual_1 = int(input(\"Ingrese el primer número entre -32768 y 32767: \"))\n",
        "\n",
        "# Juan: Solicitamos al usuario el segundo numero\n",
        "\n",
        "num_inusual_2 = int(input(\"Ingrese el segundo número entre -32768 y 32767: \"))\n",
        "\n",
        "# Juan: Sumamos los dos numeros como enteros normales\n",
        "\n",
        "suma_rara = num_inusual_1 + num_inusual_2\n",
        "\n",
        "# Juan: Para simular el comportamiento de 16 bits, se aplica una \"mascara\" de 16 bits\n",
        "\n",
        "suma_rara = suma_rara & 0xFFFF\n",
        "\n",
        "# Juan: Si el bit de signo (bit 15) esta en 1, el numero es negativo y se ajusta para obtener el valor correcto\n",
        "\n",
        "if suma_rara & (1 << 15):\n",
        "\n",
        "    suma_rara = suma_rara - (1 << 16)\n",
        "\n",
        "# Juan: Se muestran los numeros en binario de 16 bits con complemento a dos\n",
        "\n",
        "print(\"\\n----- Representaciones en complemento a dos de 16 bits -----\")\n",
        "\n",
        "print(\"Primer numero : \", convertir_a_complemento_dos_16bits(num_inusual_1))\n",
        "\n",
        "print(\"Segundo numero: \", convertir_a_complemento_dos_16bits(num_inusual_2))\n",
        "\n",
        "# Juan: Se muestra el resultado en binario y tambien en decimal\n",
        "\n",
        "print(\"Resultado (binario): \", convertir_a_complemento_dos_16bits(suma_rara))\n",
        "\n",
        "print(\"Resultado (decimal): \", suma_rara)\n"
      ]
    }
  ]
}