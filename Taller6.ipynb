{
  "nbformat": 4,
  "nbformat_minor": 0,
  "metadata": {
    "colab": {
      "provenance": [],
      "authorship_tag": "ABX9TyPh8sZeBSxxFjKQiIg8PXaz"
    },
    "kernelspec": {
      "name": "python3",
      "display_name": "Python 3"
    },
    "language_info": {
      "name": "python"
    }
  },
  "cells": [
    {
      "cell_type": "code",
      "execution_count": 1,
      "metadata": {
        "colab": {
          "base_uri": "https://localhost:8080/"
        },
        "id": "_dGiaYH1DZ97",
        "outputId": "81185c41-2c02-4c4a-fa33-07aad95a14b4"
      },
      "outputs": [
        {
          "output_type": "stream",
          "name": "stdout",
          "text": [
            "Ingrese el valor en radianes: 54\n",
            "\n",
            "Resultados:\n",
            "Valor estimado del seno: 250307.19955939532\n",
            "Error aproximado relativo porcentual: 1.8076486574108292e-07%\n",
            "Número de iteraciones realizadas: 76\n"
          ]
        }
      ],
      "source": [
        "import math\n",
        "\n",
        "# Juan: Se solicita al usuario ingresar un valor en radianes\n",
        "\n",
        "valor_radianes = float(input(\"Ingrese el valor en radianes: \"))\n",
        "\n",
        "# Juan: Se define el criterio de error esperado con 8 cifras significativas (0.5 * 10^(2 - cifras))\n",
        "\n",
        "error_esperado = 0.5 * (10 ** (2 - 8))\n",
        "\n",
        "# Juan: Variables iniciales para la serie\n",
        "\n",
        "suma_aproximada = 0.0         # Juan: Acumulara el valor de la serie\n",
        "\n",
        "termino_actual = valor_radianes  # Juan: Primer termino de la serie es x\n",
        "\n",
        "contador_iteraciones = 0      # Juan: Contara cuántas iteraciones se hacen\n",
        "\n",
        "error_aproximado = 100.0      # Juan: Se inicializa con un valor grande para entrar al bucle\n",
        "\n",
        "indice = 0                    # Juan: Indica qué término (n) se esta sumando\n",
        "\n",
        "# Juan: Se ejecuta el ciclo hasta que el error aproximado sea menor al error esperado\n",
        "\n",
        "while error_aproximado > error_esperado:\n",
        "\n",
        "    # Juan: Calculo del termino n de la serie: (-1)^n * x^(2n+1) / (2n+1)!\n",
        "\n",
        "    termino_actual = ((-1) ** indice) * (valor_radianes ** (2 * indice + 1)) / math.factorial(2 * indice + 1)\n",
        "\n",
        "    # Juan: Suma del termino a la aproximación\n",
        "\n",
        "    suma_previa = suma_aproximada     # Juan: Guardar valor previo para calcular error\n",
        "\n",
        "    suma_aproximada += termino_actual\n",
        "\n",
        "    # Juan: Calcular error aproximado relativo porcentual (|nuevo - previo| / nuevo * 100)\n",
        "\n",
        "    if suma_aproximada != 0:\n",
        "\n",
        "        error_aproximado = abs((suma_aproximada - suma_previa) / suma_aproximada) * 100\n",
        "\n",
        "    # Juan: Incrementar el contador de iteraciones\n",
        "\n",
        "    contador_iteraciones += 1\n",
        "\n",
        "    indice += 1\n",
        "\n",
        "# Juan: Imprimir resultados\n",
        "\n",
        "print(\"\\nResultados:\")\n",
        "\n",
        "print(f\"Valor estimado del seno: {suma_aproximada}\")\n",
        "\n",
        "print(f\"Error aproximado relativo porcentual: {error_aproximado}%\")\n",
        "\n",
        "print(f\"Número de iteraciones realizadas: {contador_iteraciones}\")\n"
      ]
    }
  ]
}