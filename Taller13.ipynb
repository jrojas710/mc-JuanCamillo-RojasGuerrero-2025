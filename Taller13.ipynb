{
  "cells": [
    {
      "cell_type": "code",
      "execution_count": 1,
      "id": "264681be",
      "metadata": {
        "id": "264681be"
      },
      "outputs": [],
      "source": [
        "import numpy as np  # Juan: importamos numpy para trabajar con matrices\n",
        "\n",
        "from fractions import Fraction  # Juan: importamos Fraction para mostrar fracciones legibles\n",
        "\n",
        "A = np.array([  # Juan: definimos la matriz de coeficientes del sistema\n",
        "\n",
        "    [2, 0, 2],  # Juan: coeficientes de la ecuacion 1 para x1 x2 x3\n",
        "\n",
        "    [4, 0, -1],  # Juan: coeficientes de la ecuacion 2 para x1 x2 x3\n",
        "\n",
        "    [3, 2, -2]  # Juan: coeficientes de la ecuacion 3 para x1 x2 x3\n",
        "\n",
        "], dtype=float)  # Juan: usamos flotantes para poder dividir sin perder precision\n",
        "\n",
        "b = np.array([7, 18, 16], dtype=float)  # Juan: definimos el vector de terminos independientes\n",
        "\n",
        "def as_fractions(vec):  # Juan: funcion para convertir una lista de numeros a fracciones\n",
        "\n",
        "    return [Fraction(x).limit_denominator() for x in vec]  # Juan: convertimos cada numero a fraccion con denominador pequeño\n"
      ]
    },
    {
      "cell_type": "code",
      "execution_count": 2,
      "id": "da6e6f7b",
      "metadata": {
        "id": "da6e6f7b"
      },
      "outputs": [],
      "source": [
        "def swap_rows(M, i, j):  # Juan: intercambia las filas i y j de una matriz aumentada\n",
        "\n",
        "    M[[i, j]] = M[[j, i]]  # Juan: ejecutamos el intercambio usando indexado de numpy\n",
        "\n",
        "    return M  # Juan: devolvemos la matriz modificada\n",
        "\n",
        "def normalize_row(M, i):  # Juan: hace que el pivote de la fila i sea 1\n",
        "\n",
        "    pivot = M[i, i]  # Juan: leemos el pivote actual\n",
        "\n",
        "    M[i, :] = M[i, :] / pivot  # Juan: dividimos toda la fila i por el pivote\n",
        "\n",
        "    return M  # Juan: devolvemos la matriz modificada\n",
        "\n",
        "def eliminate_column(M, i):  # Juan: hace cero la columna i en todas las filas excepto la i\n",
        "\n",
        "    n_rows = M.shape[0]  # Juan: numero de filas de la matriz\n",
        "\n",
        "    for r in range(n_rows):  # Juan: recorremos todas las filas\n",
        "\n",
        "        if r != i:  # Juan: saltamos la fila del pivote\n",
        "\n",
        "            factor = M[r, i]  # Juan: factor que queremos anular en la fila r\n",
        "\n",
        "            M[r, :] = M[r, :] - factor * M[i, :]  # Juan: actualizamos la fila r restando el factor por la fila pivote\n",
        "\n",
        "    return M  # Juan: devolvemos la matriz modificada\n"
      ]
    },
    {
      "cell_type": "code",
      "execution_count": 3,
      "id": "ded09b00",
      "metadata": {
        "id": "ded09b00"
      },
      "outputs": [],
      "source": [
        "def gauss_jordan_with_zero_pivot_swap(A, b, tol=1e-12):  # Juan: gauss jordan con intercambio cuando el pivote es cero\n",
        "\n",
        "    A = A.astype(float)  # Juan: convertimos A a flotante\n",
        "\n",
        "    b = b.astype(float)  # Juan: convertimos b a flotante\n",
        "\n",
        "    n = A.shape[0]  # Juan: numero de ecuaciones\n",
        "\n",
        "    Ab = np.hstack([A, b.reshape(-1, 1)])  # Juan: construimos la matriz aumentada Ab\n",
        "\n",
        "    for i in range(n):  # Juan: recorremos cada columna pivote\n",
        "\n",
        "        if abs(Ab[i, i]) < tol:  # Juan: si el pivote es cero buscamos una fila para intercambiar\n",
        "\n",
        "            swap_target = None  # Juan: inicializamos el indice de la fila candidata\n",
        "\n",
        "            for r in range(i + 1, n):  # Juan: buscamos una fila hacia abajo con valor no nulo en la columna i\n",
        "\n",
        "                if abs(Ab[r, i]) > tol:  # Juan: si encontramos una entrada adecuada\n",
        "\n",
        "                    swap_target = r  # Juan: guardamos el indice de la fila candidata\n",
        "\n",
        "                    break  # Juan: detenemos la busqueda\n",
        "\n",
        "            if swap_target is None:  # Juan: si no encontramos fila candidata\n",
        "\n",
        "                raise ValueError(\"no existe pivote valido por lo tanto el sistema no tiene solucion unica\")  # Juan: no hay solucion unica\n",
        "\n",
        "            Ab = swap_rows(Ab, i, swap_target)  # Juan: intercambiamos la fila i con la fila candidata\n",
        "\n",
        "        Ab = normalize_row(Ab, i)  # Juan: normalizamos la fila i para tener pivote 1\n",
        "\n",
        "        Ab = eliminate_column(Ab, i)  # Juan: hacemos cero la columna i en las demas filas\n",
        "\n",
        "    x = Ab[:, -1]  # Juan: la ultima columna de Ab es el vector solucion\n",
        "\n",
        "    return Ab, x  # Juan: devolvemos la matriz reducida y la solucion\n"
      ]
    },
    {
      "cell_type": "code",
      "execution_count": 4,
      "id": "af72ce3d",
      "metadata": {
        "colab": {
          "base_uri": "https://localhost:8080/"
        },
        "id": "af72ce3d",
        "outputId": "a184ea55-c04b-4aa8-f9ea-889f97fee688"
      },
      "outputs": [
        {
          "output_type": "stream",
          "name": "stdout",
          "text": [
            "matriz aumentada reducida rref\n",
            "[[ 1.    0.    0.    4.3 ]\n",
            " [ 0.    1.    0.    0.75]\n",
            " [-0.   -0.    1.   -0.8 ]]\n",
            "solucion en flotantes [ 4.3   0.75 -0.8 ]\n",
            "solucion como fracciones [Fraction(43, 10), Fraction(3, 4), Fraction(-4, 5)]\n"
          ]
        }
      ],
      "source": [
        "Ab_reduced, x = gauss_jordan_with_zero_pivot_swap(A, b)  # Juan: resolvemos el sistema usando gauss jordan con intercambio\n",
        "\n",
        "print(\"matriz aumentada reducida rref\")  # Juan: mensaje para identificar la salida\n",
        "\n",
        "print(Ab_reduced)  # Juan: mostramos la matriz reducida final\n",
        "\n",
        "print(\"solucion en flotantes\", x)  # Juan: mostramos la solucion en flotantes\n",
        "\n",
        "print(\"solucion como fracciones\", as_fractions(x))  # Juan: mostramos la solucion como fracciones\n"
      ]
    },
    {
      "cell_type": "code",
      "execution_count": 5,
      "id": "2796bc02",
      "metadata": {
        "colab": {
          "base_uri": "https://localhost:8080/"
        },
        "id": "2796bc02",
        "outputId": "4016cf6d-e1bf-4896-c16a-5e434dc36bcd"
      },
      "outputs": [
        {
          "output_type": "stream",
          "name": "stdout",
          "text": [
            "residuo numerico debe ser cercano a cero [ 0.00000000e+00  0.00000000e+00 -1.77635684e-15]\n"
          ]
        }
      ],
      "source": [
        "residuo = A @ x - b  # Juan: calculamos el vector residuo A por x menos b\n",
        "\n",
        "print(\"residuo numerico debe ser cercano a cero\", residuo)  # Juan: mostramos el residuo numerico\n"
      ]
    }
  ],
  "metadata": {
    "colab": {
      "provenance": []
    },
    "language_info": {
      "name": "python"
    },
    "kernelspec": {
      "name": "python3",
      "display_name": "Python 3"
    }
  },
  "nbformat": 4,
  "nbformat_minor": 5
}