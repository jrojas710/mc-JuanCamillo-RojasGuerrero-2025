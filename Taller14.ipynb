{
  "cells": [
    {
      "cell_type": "code",
      "execution_count": 1,
      "id": "90ee018f",
      "metadata": {
        "id": "90ee018f"
      },
      "outputs": [],
      "source": [
        "import numpy as np  # Juan: importamos numpy para vectores y matrices\n",
        "\n",
        "rng = np.random.default_rng()  # Juan: creamos un generador de numeros aleatorios reproducible si se fija la semilla\n",
        "\n",
        "def leer_entero(mensaje):  # Juan: funcion para leer un entero del usuario con validacion\n",
        "\n",
        "    while True:  # Juan: repetimos hasta que el usuario ingrese un entero valido\n",
        "\n",
        "        try:  # Juan: intentamos convertir la entrada a entero\n",
        "\n",
        "            return int(input(mensaje))  # Juan: devolvemos el valor entero ingresado\n",
        "\n",
        "        except ValueError:  # Juan: si falla la conversion mostramos un aviso\n",
        "\n",
        "            print(\"ingresa un numero entero valido\")  # Juan: solicitamos un nuevo intento\n",
        "\n",
        "def vector_aleatorio(n, bajo=-9, alto=10):  # Juan: genera un vector de enteros aleatorios de longitud n\n",
        "\n",
        "    return rng.integers(bajo, alto, size=n)  # Juan: devolvemos un vector con valores entre bajo y alto\n",
        "\n",
        "def matriz_aleatoria(filas, cols, bajo=-9, alto=10):  # Juan: genera una matriz de enteros aleatorios\n",
        "\n",
        "    return rng.integers(bajo, alto, size=(filas, cols))  # Juan: devolvemos una matriz de dimensiones filas por cols\n"
      ]
    },
    {
      "cell_type": "code",
      "execution_count": 2,
      "id": "9579239e",
      "metadata": {
        "colab": {
          "base_uri": "https://localhost:8080/"
        },
        "id": "9579239e",
        "outputId": "eb788444-7475-4c4f-9d74-eae215ba0332"
      },
      "outputs": [
        {
          "output_type": "stream",
          "name": "stdout",
          "text": [
            "ingresa la longitud n del vector: 4\n",
            "vector 1: [-4 -3 -8  3]\n",
            "vector 2: [-4 -8  2 -7]\n",
            "producto escalar: 3\n"
          ]
        }
      ],
      "source": [
        "n = leer_entero(\"ingresa la longitud n del vector: \")  # Juan: pedimos la longitud de los vectores\n",
        "\n",
        "v1 = vector_aleatorio(n)  # Juan: generamos el primer vector aleatorio\n",
        "\n",
        "v2 = vector_aleatorio(n)  # Juan: generamos el segundo vector aleatorio\n",
        "\n",
        "producto_escalar = int(np.dot(v1, v2))  # Juan: calculamos el producto escalar y lo convertimos a int para mostrar\n",
        "\n",
        "print(\"vector 1:\", v1)  # Juan: mostramos el primer vector\n",
        "\n",
        "print(\"vector 2:\", v2)  # Juan: mostramos el segundo vector\n",
        "\n",
        "print(\"producto escalar:\", producto_escalar)  # Juan: mostramos el resultado del producto escalar\n"
      ]
    },
    {
      "cell_type": "code",
      "execution_count": 3,
      "id": "ee212d6a",
      "metadata": {
        "colab": {
          "base_uri": "https://localhost:8080/"
        },
        "id": "ee212d6a",
        "outputId": "9116c770-3850-4c96-8293-9ee487fffd23"
      },
      "outputs": [
        {
          "output_type": "stream",
          "name": "stdout",
          "text": [
            "elige una operacion matricial\n",
            "1 suma\n",
            "2 multiplicacion\n",
            "escribe 1 o 2 y presiona enter: 1\n",
            "operacion seleccionada suma\n",
            "dimensiones de A y B: (2, 6)\n",
            "A=\n",
            " [[-5  7  3  5  8 -7]\n",
            " [-6 -8 -3 -6  7 -2]]\n",
            "B=\n",
            " [[ 2  8  3  6  3  5]\n",
            " [-8 -7 -1  6 -6 -7]]\n",
            "resultado R=A+B=\n",
            " [[ -3  15   6  11  11  -2]\n",
            " [-14 -15  -4   0   1  -9]]\n"
          ]
        }
      ],
      "source": [
        "print(\"elige una operacion matricial\")  # Juan: mostramos el menu de opciones\n",
        "\n",
        "print(\"1 suma\")  # Juan: opcion 1 suma de matrices\n",
        "\n",
        "print(\"2 multiplicacion\")  # Juan: opcion 2 multiplicacion de matrices\n",
        "\n",
        "op = leer_entero(\"escribe 1 o 2 y presiona enter: \")  # Juan: leemos la opcion del usuario\n",
        "\n",
        "if op == 1:  # Juan: si el usuario eligio suma\n",
        "\n",
        "    m = rng.integers(2, 9)  # Juan: numero de filas entre 2 y 8\n",
        "\n",
        "    n = rng.integers(2, 9)  # Juan: numero de columnas entre 2 y 8\n",
        "\n",
        "    A = matriz_aleatoria(m, n)  # Juan: generamos la matriz A de dimension m por n\n",
        "\n",
        "    B = matriz_aleatoria(m, n)  # Juan: generamos la matriz B de la misma dimension\n",
        "\n",
        "    R = A + B  # Juan: realizamos la suma elemento a elemento\n",
        "\n",
        "    print(\"operacion seleccionada suma\")  # Juan: confirmamos la operacion seleccionada\n",
        "\n",
        "    print(\"dimensiones de A y B:\", A.shape)  # Juan: mostramos las dimensiones de las matrices\n",
        "\n",
        "    print(\"A=\\n\", A)  # Juan: mostramos A\n",
        "\n",
        "    print(\"B=\\n\", B)  # Juan: mostramos B\n",
        "\n",
        "    print(\"resultado R=A+B=\\n\", R)  # Juan: mostramos el resultado de la suma\n",
        "\n",
        "elif op == 2:  # Juan: si el usuario eligio multiplicacion\n",
        "\n",
        "    m = rng.integers(2, 9)  # Juan: filas de A entre 2 y 8\n",
        "\n",
        "    k = rng.integers(2, 9)  # Juan: columnas de A y filas de B entre 2 y 8\n",
        "\n",
        "    n = rng.integers(2, 9)  # Juan: columnas de B entre 2 y 8\n",
        "\n",
        "    A = matriz_aleatoria(m, k)  # Juan: generamos la matriz A de dimension m por k\n",
        "\n",
        "    B = matriz_aleatoria(k, n)  # Juan: generamos la matriz B de dimension k por n\n",
        "\n",
        "    R = A @ B  # Juan: multiplicamos usando el operador arroba\n",
        "\n",
        "    print(\"operacion seleccionada multiplicacion\")  # Juan: confirmamos la operacion seleccionada\n",
        "\n",
        "    print(\"dimensiones de A:\", A.shape, \"dimensiones de B:\", B.shape)  # Juan: mostramos las dimensiones de A y B\n",
        "\n",
        "    print(\"A=\\n\", A)  # Juan: mostramos A\n",
        "\n",
        "    print(\"B=\\n\", B)  # Juan: mostramos B\n",
        "\n",
        "    print(\"resultado R=A@B=\\n\", R)  # Juan: mostramos el resultado de la multiplicacion\n",
        "\n",
        "else:  # Juan: si la opcion no es valida\n",
        "\n",
        "    print(\"opcion no valida ejecuta de nuevo el bloque y elige 1 o 2\")  # Juan: mensaje de opcion invalida\n"
      ]
    }
  ],
  "metadata": {
    "colab": {
      "provenance": []
    },
    "language_info": {
      "name": "python"
    },
    "kernelspec": {
      "name": "python3",
      "display_name": "Python 3"
    }
  },
  "nbformat": 4,
  "nbformat_minor": 5
}