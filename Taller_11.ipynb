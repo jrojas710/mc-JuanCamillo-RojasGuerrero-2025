{
  "cells": [
    {
      "cell_type": "code",
      "execution_count": 1,
      "id": "a447955b",
      "metadata": {
        "id": "a447955b"
      },
      "outputs": [],
      "source": [
        "# Juan: Diferencias finitas y derivadas\n",
        "# Juan: Se importan modulos\n",
        "import math  # Juan: matematicas basicas\n",
        "import numpy as np  # Juan: arreglos numericos\n",
        "import pandas as pd  # Juan: para tablas\n",
        "\n",
        "# Juan: Se define la funcion f(x) = 0.22 x^4 - 0.55 x^2 + 2.2\n",
        "def f(x):  # Juan: funcion principal\n",
        "    return 0.22*x**4 - 0.55*x**2 + 2.2\n",
        "\n",
        "# Juan: derivada exacta f'(x) = 0.88 x^3 - 1.1 x\n",
        "def df_exact(x):  # Juan: derivada exacta de primer orden\n",
        "    return 0.88*x**3 - 1.1*x\n",
        "\n",
        "# Juan: segunda derivada exacta f''(x) = 2.64 x^2 - 1.1\n",
        "def d2f_exact(x):  # Juan: segunda derivada exacta\n",
        "    return 2.64*x**2 - 1.1\n"
      ]
    },
    {
      "cell_type": "code",
      "execution_count": 2,
      "id": "c7c7286c",
      "metadata": {
        "colab": {
          "base_uri": "https://localhost:8080/"
        },
        "id": "c7c7286c",
        "outputId": "42d3d9c6-964a-4fe5-8a6d-ab1a3753bd68"
      },
      "outputs": [
        {
          "output_type": "stream",
          "name": "stdout",
          "text": [
            "Valores verdaderos en x = 0.5\n",
            "f(x)= 2.0762500000000004\n",
            "f'(x)= -0.44000000000000006\n",
            "f''(x)= -0.44000000000000006\n"
          ]
        }
      ],
      "source": [
        "# Juan: punto de evaluacion y calculos verdaderos\n",
        "x0 = 0.5  # Juan: punto\n",
        "true_d1 = df_exact(x0)  # Juan: f'(x0) verdadero\n",
        "true_d2 = d2f_exact(x0)  # Juan: f''(x0) verdadero\n",
        "\n",
        "print('Valores verdaderos en x =', x0)  # Juan: impresion\n",
        "print('f(x)=', f(x0))  # Juan: valor de la funcion\n",
        "print(\"f'(x)=\", true_d1)  # Juan: primera derivada\n",
        "print(\"f''(x)=\", true_d2)  # Juan: segunda derivada\n"
      ]
    },
    {
      "cell_type": "code",
      "execution_count": 3,
      "id": "41b4ab07",
      "metadata": {
        "id": "41b4ab07"
      },
      "outputs": [],
      "source": [
        "# Juan: formulas de diferencias finitas\n",
        "\n",
        "# Juan: primera derivada, diferencia hacia adelante\n",
        "def d1_forward(f, x, h):  # Juan: definicion\n",
        "    return (f(x + h) - f(x)) / h  # Juan: formula\n",
        "\n",
        "# Juan: primera derivada, diferencia hacia atras\n",
        "def d1_backward(f, x, h):  # Juan: definicion\n",
        "    return (f(x) - f(x - h)) / h  # Juan: formula\n",
        "\n",
        "# Juan: primera derivada, diferencia centrada\n",
        "def d1_centered(f, x, h):  # Juan: definicion\n",
        "    return (f(x + h) - f(x - h)) / (2*h)  # Juan: formula\n",
        "\n",
        "# Juan: segunda derivada, diferencia hacia adelante (orden O(h))\n",
        "def d2_forward(f, x, h):  # Juan: definicion\n",
        "    return (f(x) - 2*f(x + h) + f(x + 2*h)) / (h**2)  # Juan: formula\n",
        "\n",
        "# Juan: segunda derivada, diferencia hacia atras (orden O(h))\n",
        "def d2_backward(f, x, h):  # Juan: definicion\n",
        "    return (f(x - 2*h) - 2*f(x - h) + f(x)) / (h**2)  # Juan: formula\n",
        "\n",
        "# Juan: segunda derivada, diferencia centrada (orden O(h^2))\n",
        "def d2_centered(f, x, h):  # Juan: definicion\n",
        "    return (f(x + h) - 2*f(x) + f(x - h)) / (h**2)  # Juan: formula\n"
      ]
    },
    {
      "cell_type": "code",
      "execution_count": 4,
      "id": "820fe7c8",
      "metadata": {
        "colab": {
          "base_uri": "https://localhost:8080/"
        },
        "id": "820fe7c8",
        "outputId": "bbfb9415-e50a-42a0-9df6-3ddc07ab8db4"
      },
      "outputs": [
        {
          "output_type": "stream",
          "name": "stdout",
          "text": [
            "Aproximaciones con h=0.1\n",
            "        metodo    valor  error_abs\n",
            "0   d1_forward -0.45738    0.01738\n",
            "1  d1_backward -0.41382    0.02618\n",
            "2  d1_centered -0.43560    0.00440\n",
            "3   d2_forward -0.14520    0.29480\n",
            "4  d2_backward -0.67320    0.23320\n",
            "5  d2_centered -0.43560    0.00440\n"
          ]
        }
      ],
      "source": [
        "# Juan: calculos con h=0.1\n",
        "h = 0.1  # Juan: paso\n",
        "\n",
        "# Juan: primeras derivadas\n",
        "d1_fwd = d1_forward(f, x0, h)  # Juan: adelante\n",
        "d1_bwd = d1_backward(f, x0, h)  # Juan: atras\n",
        "d1_ctr = d1_centered(f, x0, h)  # Juan: centrada\n",
        "\n",
        "# Juan: segundas derivadas\n",
        "d2_fwd = d2_forward(f, x0, h)  # Juan: adelante\n",
        "d2_bwd = d2_backward(f, x0, h)  # Juan: atras\n",
        "d2_ctr = d2_centered(f, x0, h)  # Juan: centrada\n",
        "\n",
        "# Juan: errores absolutos\n",
        "err = lambda est, true: abs(est - true)  # Juan: funcion error\n",
        "\n",
        "data = {  # Juan: se construye la tabla\n",
        "    'metodo': ['d1_forward','d1_backward','d1_centered','d2_forward','d2_backward','d2_centered'],  # Juan: etiquetas\n",
        "    'valor': [d1_fwd, d1_bwd, d1_ctr, d2_fwd, d2_bwd, d2_ctr],  # Juan: estimaciones\n",
        "    'error_abs': [err(d1_fwd,true_d1), err(d1_bwd,true_d1), err(d1_ctr,true_d1), err(d2_fwd,true_d2), err(d2_bwd,true_d2), err(d2_ctr,true_d2)]  # Juan: errores\n",
        "}\n",
        "import pandas as pd\n",
        "df = pd.DataFrame(data)  # Juan: DataFrame\n",
        "print('Aproximaciones con h=0.1')  # Juan: titulo\n",
        "print(df)  # Juan: impresion\n"
      ]
    },
    {
      "cell_type": "code",
      "execution_count": 5,
      "id": "676708fb",
      "metadata": {
        "colab": {
          "base_uri": "https://localhost:8080/"
        },
        "id": "676708fb",
        "outputId": "d30a6a99-21a7-45dc-9574-88738cc0d7cd"
      },
      "outputs": [
        {
          "output_type": "stream",
          "name": "stdout",
          "text": [
            "Aproximaciones centradas con h=0.05\n",
            "d1_centered = -0.4388999999999976  error_abs = 0.0011000000000024324\n",
            "d2_centered = -0.43890000000015295  error_abs = 0.0010999999998471122\n",
            "Comparacion vs h=0.1: d1 es mejor , d2 es mejor\n"
          ]
        }
      ],
      "source": [
        "# Juan: calculos centrados con h=0.05\n",
        "h2 = 0.05  # Juan: paso mas pequeno\n",
        "\n",
        "d1_ctr_h2 = d1_centered(f, x0, h2)  # Juan: primera derivada centrada\n",
        "d2_ctr_h2 = d2_centered(f, x0, h2)  # Juan: segunda derivada centrada\n",
        "\n",
        "err_d1_h2 = abs(d1_ctr_h2 - true_d1)  # Juan: error\n",
        "err_d2_h2 = abs(d2_ctr_h2 - true_d2)  # Juan: error\n",
        "\n",
        "print('Aproximaciones centradas con h=0.05')  # Juan: titulo\n",
        "print(\"d1_centered =\", d1_ctr_h2, \" error_abs =\", err_d1_h2)  # Juan: primera\n",
        "print(\"d2_centered =\", d2_ctr_h2, \" error_abs =\", err_d2_h2)  # Juan: segunda\n",
        "\n",
        "# Juan: comparamos con h=0.1 (centrada)\n",
        "better_d1 = 'mejor' if err_d1_h2 < abs(d1_ctr - true_d1) else 'igual o peor'  # Juan: comparacion\n",
        "better_d2 = 'mejor' if err_d2_h2 < abs(d2_ctr - true_d2) else 'igual o peor'  # Juan: comparacion\n",
        "print('Comparacion vs h=0.1: d1 es', better_d1, ', d2 es', better_d2)  # Juan: resumen\n"
      ]
    }
  ],
  "metadata": {
    "kernelspec": {
      "display_name": "Python 3",
      "language": "python",
      "name": "python3"
    },
    "language_info": {
      "name": "python",
      "pygments_lexer": "ipython3"
    },
    "colab": {
      "provenance": []
    }
  },
  "nbformat": 4,
  "nbformat_minor": 5
}